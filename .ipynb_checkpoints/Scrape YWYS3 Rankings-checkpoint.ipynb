{
 "cells": [
  {
   "cell_type": "code",
   "execution_count": 102,
   "id": "common-factor",
   "metadata": {},
   "outputs": [
    {
     "name": "stdout",
     "output_type": "stream",
     "text": [
      "https://kpopjuice.com/en/youthwithyou3/ranking?type=official&ranking_id=1\n",
      "          trainee  ranking_week2\n",
      "0          Rimiko              1\n",
      "1           Tony               2\n",
      "2            Jojo              3\n",
      "3    Lian Huaiwei              4\n",
      "4      Sun Yihang              5\n",
      "..            ...            ...\n",
      "113        Bernie            114\n",
      "114         Johan            115\n",
      "115     Cao Yuxue            116\n",
      "116     The Dream            117\n",
      "117          Cole            118\n",
      "\n",
      "[118 rows x 2 columns]\n",
      "https://kpopjuice.com/en/youthwithyou3/ranking?type=official&ranking_id=2\n",
      "          trainee  ranking_week2  ranking_week4\n",
      "0          Rimiko              1              2\n",
      "1           Tony               2              1\n",
      "2            Jojo              3              5\n",
      "3    Lian Huaiwei              4              6\n",
      "4      Sun Yihang              5              7\n",
      "..            ...            ...            ...\n",
      "117        Bernie            114            104\n",
      "118         Johan            115             92\n",
      "119     Cao Yuxue            116            102\n",
      "120     The Dream            117             90\n",
      "121          Cole            118             48\n",
      "\n",
      "[122 rows x 3 columns]\n",
      "https://kpopjuice.com/en/youthwithyou3/ranking?type=official&ranking_id=3\n"
     ]
    },
    {
     "name": "stderr",
     "output_type": "stream",
     "text": [
      "/Users/johnnyma/opt/anaconda3/lib/python3.8/site-packages/pandas/core/indexing.py:1637: SettingWithCopyWarning: \n",
      "A value is trying to be set on a copy of a slice from a DataFrame\n",
      "\n",
      "See the caveats in the documentation: https://pandas.pydata.org/pandas-docs/stable/user_guide/indexing.html#returning-a-view-versus-a-copy\n",
      "  self._setitem_single_block(indexer, value, name)\n"
     ]
    },
    {
     "name": "stdout",
     "output_type": "stream",
     "text": [
      "          trainee  ranking_week2  ranking_week4  ranking_week6\n",
      "0          Rimiko              1              2              2\n",
      "1           Tony               2              1              1\n",
      "2            Jojo              3              5              5\n",
      "3    Lian Huaiwei              4              6              6\n",
      "4      Sun Yihang              5              7              7\n",
      "..            ...            ...            ...            ...\n",
      "125        Bernie            114            104            111\n",
      "126         Johan            115             92             98\n",
      "127     Cao Yuxue            116            102            115\n",
      "128     The Dream            117             90             91\n",
      "129          Cole            118             48             58\n",
      "\n",
      "[130 rows x 4 columns]\n"
     ]
    }
   ],
   "source": [
    "import requests\n",
    "from bs4 import BeautifulSoup\n",
    "import re\n",
    "import time\n",
    "\n",
    "# use kpop juice rankings. They have many problems like replacing Keerlejun with Cole, and having non-unique identifiers for the two Neils and Jeremys. \n",
    "base_url = 'https://kpopjuice.com/en/youthwithyou3/ranking?type=official&ranking_id='\n",
    "\n",
    "# iterate over weeks\n",
    "for j in range(1,4):\n",
    "    url = base_url + str(j)\n",
    "    \n",
    "    # get text\n",
    "    print(url)\n",
    "    html_text = requests.get(url).text\n",
    "    soup = BeautifulSoup(html_text, 'html.parser')\n",
    "    \n",
    "    trainees = []\n",
    "    \n",
    "    # rank trainees by the order in which they appear in the list\n",
    "    i = 1\n",
    "    for t in soup.find_all('p', {\"class\": \"uk-text-small\"}):\n",
    "        name = re.sub(r'\\([^)]*\\)', '', t.text.replace('\\n', ''))\n",
    "        trainees.append((name, int(i)))\n",
    "        i += 1\n",
    "        \n",
    "    data_out = pd.DataFrame(trainees[:-1], columns = ['trainee', 'ranking_week' + str(2*j)])\n",
    "    \n",
    "    # fix local error\n",
    "    if j == 3:\n",
    "        data_out.trainee.iloc[35] = 'Keerlijun'\n",
    "    \n",
    "    # set first data\n",
    "    if j == 1:\n",
    "        t_data = data_out\n",
    "    else:\n",
    "        # merge based on trainee name\n",
    "        t_data = t_data.merge(data_out, on = 'trainee', how='left')\n",
    "\n",
    "    print(t_data)\n",
    "    \n",
    "    # sleep to avoid overloading the server\n",
    "    time.sleep(1)\n",
    "    \n"
   ]
  },
  {
   "cell_type": "code",
   "execution_count": 103,
   "id": "material-difference",
   "metadata": {},
   "outputs": [],
   "source": [
    "# output to csv\n",
    "t_data.to_csv('trainee_data.csv')"
   ]
  }
 ],
 "metadata": {
  "kernelspec": {
   "display_name": "Python 3",
   "language": "python",
   "name": "python3"
  },
  "language_info": {
   "codemirror_mode": {
    "name": "ipython",
    "version": 3
   },
   "file_extension": ".py",
   "mimetype": "text/x-python",
   "name": "python",
   "nbconvert_exporter": "python",
   "pygments_lexer": "ipython3",
   "version": "3.8.5"
  }
 },
 "nbformat": 4,
 "nbformat_minor": 5
}
